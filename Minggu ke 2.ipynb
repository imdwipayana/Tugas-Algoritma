{
 "cells": [
  {
   "cell_type": "code",
   "execution_count": 1,
   "id": "d30dc6ee",
   "metadata": {},
   "outputs": [
    {
     "name": "stdout",
     "output_type": "stream",
     "text": [
      "Saya menggunakan Python\n"
     ]
    }
   ],
   "source": [
    "print('Saya menggunakan Python')"
   ]
  },
  {
   "cell_type": "code",
   "execution_count": null,
   "id": "d79fc8aa",
   "metadata": {},
   "outputs": [],
   "source": [
    "print(\"Saya menggunakan Python karena saya sangat ingin belajar tentang data science\")"
   ]
  },
  {
   "cell_type": "code",
   "execution_count": null,
   "id": "6401e64b",
   "metadata": {},
   "outputs": [],
   "source": [
    "#%%%%%%%%%%%%%%%%%%%%%%%%%%%%%%%%%%%%%%%%%%%%%%%%%%%%%%%%\n",
    "# Di sini hasilnya error karena tanda petiknya berbeda, \n",
    "# satu menggunakan petik satu dan yang lainnya menggunakan\n",
    "# petik 2\n",
    "#%%%%%%%%%%%%%%%%%%%%%%%%%%%%%%%%%%%%%%%%%%%%%%%%%%%%%%%%\n",
    "print('saya iseng\")"
   ]
  },
  {
   "cell_type": "code",
   "execution_count": null,
   "id": "e30b70f0",
   "metadata": {},
   "outputs": [],
   "source": [
    "print(\"saya iseng lagi')"
   ]
  },
  {
   "cell_type": "code",
   "execution_count": 4,
   "id": "6cd8d858",
   "metadata": {},
   "outputs": [
    {
     "name": "stdout",
     "output_type": "stream",
     "text": [
      "100\n",
      "100000\n"
     ]
    }
   ],
   "source": [
    "mahasiswa_12 = 100\n",
    "uang_di_dompet_12 = 100000\n",
    "print(mahasiswa_12)\n",
    "print(uang_di_dompet_12)\n",
    "    "
   ]
  },
  {
   "cell_type": "code",
   "execution_count": 5,
   "id": "7fab8d40",
   "metadata": {},
   "outputs": [
    {
     "data": {
      "text/plain": [
       "10000000"
      ]
     },
     "execution_count": 5,
     "metadata": {},
     "output_type": "execute_result"
    }
   ],
   "source": [
    "mahasiswa_12*uang_di_dompet_12"
   ]
  },
  {
   "cell_type": "code",
   "execution_count": 11,
   "id": "23a05384",
   "metadata": {
    "scrolled": true
   },
   "outputs": [
    {
     "name": "stdout",
     "output_type": "stream",
     "text": [
      "Angga Saputra\n"
     ]
    }
   ],
   "source": [
    "nama_depan = 'Angga'\n",
    "nama_belakang = 'Saputra'\n",
    "print(nama_depan+' '+nama_belakang)"
   ]
  },
  {
   "cell_type": "code",
   "execution_count": 13,
   "id": "881eaf01",
   "metadata": {},
   "outputs": [
    {
     "data": {
      "text/plain": [
       "'Angga Saputra'"
      ]
     },
     "execution_count": 13,
     "metadata": {},
     "output_type": "execute_result"
    }
   ],
   "source": [
    "nama_depan+' '+nama_belakang"
   ]
  },
  {
   "cell_type": "code",
   "execution_count": 22,
   "id": "c9346024",
   "metadata": {},
   "outputs": [
    {
     "name": "stdout",
     "output_type": "stream",
     "text": [
      "Input nama anda:Budi\n",
      "Selamat Pagi                    Budi\n"
     ]
    }
   ],
   "source": [
    "nama = input(\"Input nama anda:\")\n",
    "print(\"Selamat Pagi\"+\"                    \"+ nama)"
   ]
  },
  {
   "cell_type": "code",
   "execution_count": 29,
   "id": "3835380d",
   "metadata": {},
   "outputs": [
    {
     "name": "stdout",
     "output_type": "stream",
     "text": [
      "Uang di dompet saya adalah 10000\n",
      "Uang tabungan saya di bank adalah 222222222\n",
      "Total uang saya adalah 222232222\n"
     ]
    }
   ],
   "source": [
    "dompet = input(\"Uang di dompet saya adalah \")\n",
    "tabungan = input(\"Uang tabungan saya di bank adalah \")\n",
    "total = int(dompet) + int(tabungan)\n",
    "print(\"Total uang saya adalah \" + str(total))"
   ]
  },
  {
   "cell_type": "code",
   "execution_count": 30,
   "id": "62ab1000",
   "metadata": {},
   "outputs": [
    {
     "name": "stdout",
     "output_type": "stream",
     "text": [
      "Uang di dompet saya adalah 10000\n",
      "Uang tabungan saya di bank adalah 222222222\n",
      "Total uang saya adalah 222232222\n"
     ]
    }
   ],
   "source": [
    "dompet = int(input(\"Uang di dompet saya adalah \"))\n",
    "tabungan = int(input(\"Uang tabungan saya di bank adalah \"))\n",
    "#total = int(dompet) + int(tabungan)\n",
    "print(\"Total uang saya adalah \" + str(dompet + tabungan))"
   ]
  },
  {
   "cell_type": "code",
   "execution_count": null,
   "id": "015fe6a7",
   "metadata": {},
   "outputs": [],
   "source": []
  }
 ],
 "metadata": {
  "kernelspec": {
   "display_name": "Python 3 (ipykernel)",
   "language": "python",
   "name": "python3"
  },
  "language_info": {
   "codemirror_mode": {
    "name": "ipython",
    "version": 3
   },
   "file_extension": ".py",
   "mimetype": "text/x-python",
   "name": "python",
   "nbconvert_exporter": "python",
   "pygments_lexer": "ipython3",
   "version": "3.9.7"
  }
 },
 "nbformat": 4,
 "nbformat_minor": 5
}
